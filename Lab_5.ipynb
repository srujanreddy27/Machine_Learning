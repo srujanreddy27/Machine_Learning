{
  "nbformat": 4,
  "nbformat_minor": 0,
  "metadata": {
    "colab": {
      "provenance": [],
      "authorship_tag": "ABX9TyPH/g0bOToqhZxb+bafCbfa",
      "include_colab_link": true
    },
    "kernelspec": {
      "name": "python3",
      "display_name": "Python 3"
    },
    "language_info": {
      "name": "python"
    }
  },
  "cells": [
    {
      "cell_type": "markdown",
      "metadata": {
        "id": "view-in-github",
        "colab_type": "text"
      },
      "source": [
        "<a href=\"https://colab.research.google.com/github/srujanreddy27/Machine_Learning/blob/main/Lab_5.ipynb\" target=\"_parent\"><img src=\"https://colab.research.google.com/assets/colab-badge.svg\" alt=\"Open In Colab\"/></a>"
      ]
    },
    {
      "cell_type": "code",
      "execution_count": 1,
      "metadata": {
        "id": "t5yHKJ4fgvrh"
      },
      "outputs": [],
      "source": [
        "import pandas as pd\n",
        "from sklearn.linear_model import LinearRegression\n",
        "from sklearn.metrics import mean_squared_error, r2_score, mean_absolute_percentage_error\n",
        "from sklearn.cluster import KMeans\n",
        "from sklearn.metrics import silhouette_score, calinski_harabasz_score, davies_bouldin_score\n",
        "import matplotlib.pyplot as plt\n",
        "\n",
        "# A1: Linear Regression with one attribute\n",
        "def linear_regression_one_attr(X_train, y_train):\n",
        "    reg = LinearRegression().fit(X_train, y_train)\n",
        "    y_train_pred = reg.predict(X_train)\n",
        "    return y_train_pred, reg"
      ]
    },
    {
      "cell_type": "code",
      "source": [
        "def calculate_metrics(y_true, y_pred):\n",
        "    mse = mean_squared_error(y_true, y_pred)\n",
        "    rmse = mse ** 0.5\n",
        "    mape = mean_absolute_percentage_error(y_true, y_pred)\n",
        "    r2 = r2_score(y_true, y_pred)\n",
        "    return mse, rmse, mape, r2"
      ],
      "metadata": {
        "id": "bpZdhoWBwDA_"
      },
      "execution_count": 2,
      "outputs": []
    },
    {
      "cell_type": "code",
      "source": [
        "def linear_regression_multi_attr(X_train, y_train):\n",
        "    reg = LinearRegression().fit(X_train, y_train)\n",
        "    y_train_pred = reg.predict(X_train)\n",
        "    return y_train_pred, reg\n"
      ],
      "metadata": {
        "id": "TAYp6U0SwFvU"
      },
      "execution_count": 3,
      "outputs": []
    },
    {
      "cell_type": "code",
      "source": [
        "def kmeans_clustering(X_train, n_clusters=2):\n",
        "    kmeans = KMeans(n_clusters=n_clusters, random_state=0, n_init=\"auto\").fit(X_train)\n",
        "    return kmeans.labels_, kmeans.cluster_centers_"
      ],
      "metadata": {
        "id": "XuphPXxJwHZT"
      },
      "execution_count": 4,
      "outputs": []
    },
    {
      "cell_type": "code",
      "source": [
        "def clustering_scores(X_train, labels):\n",
        "    silhouette = silhouette_score(X_train, labels)\n",
        "    ch_score = calinski_harabasz_score(X_train, labels)\n",
        "    db_score = davies_bouldin_score(X_train, labels)\n",
        "    return silhouette, ch_score, db_score"
      ],
      "metadata": {
        "id": "a7DM-poNwKos"
      },
      "execution_count": 5,
      "outputs": []
    },
    {
      "cell_type": "code",
      "source": [
        "def kmeans_clustering_different_k(X_train, k_values):\n",
        "    scores = []\n",
        "    for k in k_values:\n",
        "        kmeans = KMeans(n_clusters=k, random_state=42).fit(X_train)\n",
        "        silhouette = silhouette_score(X_train, kmeans.labels_)\n",
        "        ch_score = calinski_harabasz_score(X_train, kmeans.labels_)\n",
        "        db_score = davies_bouldin_score(X_train, kmeans.labels_)\n",
        "        scores.append((k, silhouette, ch_score, db_score))\n",
        "    return scores"
      ],
      "metadata": {
        "id": "NByjppbGwMDV"
      },
      "execution_count": 6,
      "outputs": []
    },
    {
      "cell_type": "code",
      "source": [
        "def elbow_plot(X_train, k_values):\n",
        "    distortions = []\n",
        "    for k in k_values:\n",
        "        kmeans = KMeans(n_clusters=k).fit(X_train)\n",
        "        distortions.append(kmeans.inertia_)\n",
        "    plt.plot(k_values, distortions)\n",
        "    plt.xlabel('k')\n",
        "    plt.ylabel('Distortion')\n",
        "    plt.title('Elbow Method for Optimal k')\n",
        "    plt.show()"
      ],
      "metadata": {
        "id": "Yn6kVhqawPc8"
      },
      "execution_count": 7,
      "outputs": []
    },
    {
      "cell_type": "code",
      "source": [
        "data = pd.read_excel(r\"CE_vector_v3.xlsx\")\n",
        "X_train = data[[\"Control_Flow_Structures_Vector_0\", \"Control_Flow_Structures_Vector_1\"]]\n",
        "y_train = data[\"Final_Marks\"]\n",
        "# A1\n",
        "y_train_pred_one, reg_one = linear_regression_one_attr(X_train[[\"Control_Flow_Structures_Vector_0\"]], y_train)\n",
        "print(\"A1 - Linear Regression (one attribute) Predictions:\", y_train_pred_one)\n",
        "\n",
        "# A2\n",
        "mse, rmse, mape, r2 = calculate_metrics(y_train, y_train_pred_one)\n",
        "print(f\"A2 - Metrics: MSE={mse}, RMSE={rmse}, MAPE={mape}, R2={r2}\")\n",
        "\n",
        "# A3\n",
        "y_train_pred_multi, reg_multi = linear_regression_multi_attr(X_train, y_train)\n",
        "print(\"A3 - Linear Regression (multiple attributes) Predictions:\", y_train_pred_multi)\n",
        "\n",
        "# A4\n",
        "labels, centers = kmeans_clustering(X_train)\n",
        "print(\"A4 - K-means Clustering Labels:\", labels)\n",
        "print(\"A4 - K-means Clustering Centers:\", centers)\n",
        "\n",
        "# A5\n",
        "silhouette, ch_score, db_score = clustering_scores(X_train, labels)\n",
        "print(f\"A5 - Clustering Scores: Silhouette={silhouette}, CH Score={ch_score}, DB Score={db_score}\")\n",
        "\n",
        "# A6\n",
        "k_values = range(2, 10)\n",
        "clustering_results = kmeans_clustering_different_k(X_train, k_values)\n",
        "print(\"A6 - K-means Clustering Results for different k values:\", clustering_results)\n",
        "\n",
        "# A7\n",
        "elbow_plot(X_train, k_values)"
      ],
      "metadata": {
        "id": "JkFBTIeEwRHc",
        "outputId": "6ec6452a-a18d-4633-9abe-c2f84ef1551d",
        "colab": {
          "base_uri": "https://localhost:8080/",
          "height": 356
        }
      },
      "execution_count": 8,
      "outputs": [
        {
          "output_type": "error",
          "ename": "FileNotFoundError",
          "evalue": "[Errno 2] No such file or directory: 'CE_vector_v3.xlsx'",
          "traceback": [
            "\u001b[0;31m---------------------------------------------------------------------------\u001b[0m",
            "\u001b[0;31mFileNotFoundError\u001b[0m                         Traceback (most recent call last)",
            "\u001b[0;32m<ipython-input-8-8db92cf1a237>\u001b[0m in \u001b[0;36m<cell line: 1>\u001b[0;34m()\u001b[0m\n\u001b[0;32m----> 1\u001b[0;31m \u001b[0mdata\u001b[0m \u001b[0;34m=\u001b[0m \u001b[0mpd\u001b[0m\u001b[0;34m.\u001b[0m\u001b[0mread_excel\u001b[0m\u001b[0;34m(\u001b[0m\u001b[0;34mr\"CE_vector_v3.xlsx\"\u001b[0m\u001b[0;34m)\u001b[0m\u001b[0;34m\u001b[0m\u001b[0;34m\u001b[0m\u001b[0m\n\u001b[0m\u001b[1;32m      2\u001b[0m \u001b[0mX_train\u001b[0m \u001b[0;34m=\u001b[0m \u001b[0mdata\u001b[0m\u001b[0;34m[\u001b[0m\u001b[0;34m[\u001b[0m\u001b[0;34m\"Control_Flow_Structures_Vector_0\"\u001b[0m\u001b[0;34m,\u001b[0m \u001b[0;34m\"Control_Flow_Structures_Vector_1\"\u001b[0m\u001b[0;34m]\u001b[0m\u001b[0;34m]\u001b[0m\u001b[0;34m\u001b[0m\u001b[0;34m\u001b[0m\u001b[0m\n\u001b[1;32m      3\u001b[0m \u001b[0my_train\u001b[0m \u001b[0;34m=\u001b[0m \u001b[0mdata\u001b[0m\u001b[0;34m[\u001b[0m\u001b[0;34m\"Final_Marks\"\u001b[0m\u001b[0;34m]\u001b[0m\u001b[0;34m\u001b[0m\u001b[0;34m\u001b[0m\u001b[0m\n\u001b[1;32m      4\u001b[0m \u001b[0;31m# A1\u001b[0m\u001b[0;34m\u001b[0m\u001b[0;34m\u001b[0m\u001b[0m\n\u001b[1;32m      5\u001b[0m \u001b[0my_train_pred_one\u001b[0m\u001b[0;34m,\u001b[0m \u001b[0mreg_one\u001b[0m \u001b[0;34m=\u001b[0m \u001b[0mlinear_regression_one_attr\u001b[0m\u001b[0;34m(\u001b[0m\u001b[0mX_train\u001b[0m\u001b[0;34m[\u001b[0m\u001b[0;34m[\u001b[0m\u001b[0;34m\"Control_Flow_Structures_Vector_0\"\u001b[0m\u001b[0;34m]\u001b[0m\u001b[0;34m]\u001b[0m\u001b[0;34m,\u001b[0m \u001b[0my_train\u001b[0m\u001b[0;34m)\u001b[0m\u001b[0;34m\u001b[0m\u001b[0;34m\u001b[0m\u001b[0m\n",
            "\u001b[0;32m/usr/local/lib/python3.10/dist-packages/pandas/io/excel/_base.py\u001b[0m in \u001b[0;36mread_excel\u001b[0;34m(io, sheet_name, header, names, index_col, usecols, dtype, engine, converters, true_values, false_values, skiprows, nrows, na_values, keep_default_na, na_filter, verbose, parse_dates, date_parser, date_format, thousands, decimal, comment, skipfooter, storage_options, dtype_backend, engine_kwargs)\u001b[0m\n\u001b[1;32m    502\u001b[0m     \u001b[0;32mif\u001b[0m \u001b[0;32mnot\u001b[0m \u001b[0misinstance\u001b[0m\u001b[0;34m(\u001b[0m\u001b[0mio\u001b[0m\u001b[0;34m,\u001b[0m \u001b[0mExcelFile\u001b[0m\u001b[0;34m)\u001b[0m\u001b[0;34m:\u001b[0m\u001b[0;34m\u001b[0m\u001b[0;34m\u001b[0m\u001b[0m\n\u001b[1;32m    503\u001b[0m         \u001b[0mshould_close\u001b[0m \u001b[0;34m=\u001b[0m \u001b[0;32mTrue\u001b[0m\u001b[0;34m\u001b[0m\u001b[0;34m\u001b[0m\u001b[0m\n\u001b[0;32m--> 504\u001b[0;31m         io = ExcelFile(\n\u001b[0m\u001b[1;32m    505\u001b[0m             \u001b[0mio\u001b[0m\u001b[0;34m,\u001b[0m\u001b[0;34m\u001b[0m\u001b[0;34m\u001b[0m\u001b[0m\n\u001b[1;32m    506\u001b[0m             \u001b[0mstorage_options\u001b[0m\u001b[0;34m=\u001b[0m\u001b[0mstorage_options\u001b[0m\u001b[0;34m,\u001b[0m\u001b[0;34m\u001b[0m\u001b[0;34m\u001b[0m\u001b[0m\n",
            "\u001b[0;32m/usr/local/lib/python3.10/dist-packages/pandas/io/excel/_base.py\u001b[0m in \u001b[0;36m__init__\u001b[0;34m(self, path_or_buffer, engine, storage_options, engine_kwargs)\u001b[0m\n\u001b[1;32m   1561\u001b[0m                 \u001b[0mext\u001b[0m \u001b[0;34m=\u001b[0m \u001b[0;34m\"xls\"\u001b[0m\u001b[0;34m\u001b[0m\u001b[0;34m\u001b[0m\u001b[0m\n\u001b[1;32m   1562\u001b[0m             \u001b[0;32melse\u001b[0m\u001b[0;34m:\u001b[0m\u001b[0;34m\u001b[0m\u001b[0;34m\u001b[0m\u001b[0m\n\u001b[0;32m-> 1563\u001b[0;31m                 ext = inspect_excel_format(\n\u001b[0m\u001b[1;32m   1564\u001b[0m                     \u001b[0mcontent_or_path\u001b[0m\u001b[0;34m=\u001b[0m\u001b[0mpath_or_buffer\u001b[0m\u001b[0;34m,\u001b[0m \u001b[0mstorage_options\u001b[0m\u001b[0;34m=\u001b[0m\u001b[0mstorage_options\u001b[0m\u001b[0;34m\u001b[0m\u001b[0;34m\u001b[0m\u001b[0m\n\u001b[1;32m   1565\u001b[0m                 )\n",
            "\u001b[0;32m/usr/local/lib/python3.10/dist-packages/pandas/io/excel/_base.py\u001b[0m in \u001b[0;36minspect_excel_format\u001b[0;34m(content_or_path, storage_options)\u001b[0m\n\u001b[1;32m   1417\u001b[0m         \u001b[0mcontent_or_path\u001b[0m \u001b[0;34m=\u001b[0m \u001b[0mBytesIO\u001b[0m\u001b[0;34m(\u001b[0m\u001b[0mcontent_or_path\u001b[0m\u001b[0;34m)\u001b[0m\u001b[0;34m\u001b[0m\u001b[0;34m\u001b[0m\u001b[0m\n\u001b[1;32m   1418\u001b[0m \u001b[0;34m\u001b[0m\u001b[0m\n\u001b[0;32m-> 1419\u001b[0;31m     with get_handle(\n\u001b[0m\u001b[1;32m   1420\u001b[0m         \u001b[0mcontent_or_path\u001b[0m\u001b[0;34m,\u001b[0m \u001b[0;34m\"rb\"\u001b[0m\u001b[0;34m,\u001b[0m \u001b[0mstorage_options\u001b[0m\u001b[0;34m=\u001b[0m\u001b[0mstorage_options\u001b[0m\u001b[0;34m,\u001b[0m \u001b[0mis_text\u001b[0m\u001b[0;34m=\u001b[0m\u001b[0;32mFalse\u001b[0m\u001b[0;34m\u001b[0m\u001b[0;34m\u001b[0m\u001b[0m\n\u001b[1;32m   1421\u001b[0m     ) as handle:\n",
            "\u001b[0;32m/usr/local/lib/python3.10/dist-packages/pandas/io/common.py\u001b[0m in \u001b[0;36mget_handle\u001b[0;34m(path_or_buf, mode, encoding, compression, memory_map, is_text, errors, storage_options)\u001b[0m\n\u001b[1;32m    870\u001b[0m         \u001b[0;32melse\u001b[0m\u001b[0;34m:\u001b[0m\u001b[0;34m\u001b[0m\u001b[0;34m\u001b[0m\u001b[0m\n\u001b[1;32m    871\u001b[0m             \u001b[0;31m# Binary mode\u001b[0m\u001b[0;34m\u001b[0m\u001b[0;34m\u001b[0m\u001b[0m\n\u001b[0;32m--> 872\u001b[0;31m             \u001b[0mhandle\u001b[0m \u001b[0;34m=\u001b[0m \u001b[0mopen\u001b[0m\u001b[0;34m(\u001b[0m\u001b[0mhandle\u001b[0m\u001b[0;34m,\u001b[0m \u001b[0mioargs\u001b[0m\u001b[0;34m.\u001b[0m\u001b[0mmode\u001b[0m\u001b[0;34m)\u001b[0m\u001b[0;34m\u001b[0m\u001b[0;34m\u001b[0m\u001b[0m\n\u001b[0m\u001b[1;32m    873\u001b[0m         \u001b[0mhandles\u001b[0m\u001b[0;34m.\u001b[0m\u001b[0mappend\u001b[0m\u001b[0;34m(\u001b[0m\u001b[0mhandle\u001b[0m\u001b[0;34m)\u001b[0m\u001b[0;34m\u001b[0m\u001b[0;34m\u001b[0m\u001b[0m\n\u001b[1;32m    874\u001b[0m \u001b[0;34m\u001b[0m\u001b[0m\n",
            "\u001b[0;31mFileNotFoundError\u001b[0m: [Errno 2] No such file or directory: 'CE_vector_v3.xlsx'"
          ]
        }
      ]
    },
    {
      "cell_type": "code",
      "source": [],
      "metadata": {
        "id": "h_Pkm1HfwTL4"
      },
      "execution_count": null,
      "outputs": []
    }
  ]
}