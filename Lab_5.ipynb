{
  "nbformat": 4,
  "nbformat_minor": 0,
  "metadata": {
    "colab": {
      "provenance": [],
      "authorship_tag": "ABX9TyOkeb82ANJzaj9E16I7M/kq",
      "include_colab_link": true
    },
    "kernelspec": {
      "name": "python3",
      "display_name": "Python 3"
    },
    "language_info": {
      "name": "python"
    }
  },
  "cells": [
    {
      "cell_type": "markdown",
      "metadata": {
        "id": "view-in-github",
        "colab_type": "text"
      },
      "source": [
        "<a href=\"https://colab.research.google.com/github/srujanreddy27/Machine_Learning/blob/main/Lab_5.ipynb\" target=\"_parent\"><img src=\"https://colab.research.google.com/assets/colab-badge.svg\" alt=\"Open In Colab\"/></a>"
      ]
    },
    {
      "cell_type": "code",
      "execution_count": 18,
      "metadata": {
        "id": "t5yHKJ4fgvrh"
      },
      "outputs": [],
      "source": [
        "import pandas as pd\n",
        "from sklearn.linear_model import LinearRegression\n",
        "from sklearn.metrics import mean_squared_error, r2_score, mean_absolute_percentage_error\n",
        "from sklearn.cluster import KMeans\n",
        "from sklearn.metrics import silhouette_score, calinski_harabasz_score, davies_bouldin_score\n",
        "import matplotlib.pyplot as plt\n",
        "\n",
        "# A1: Linear Regression with one attribute\n",
        "def linear_regression_one_attr(X_train, y_train):\n",
        "    reg = LinearRegression().fit(X_train, y_train)\n",
        "    y_train_pred = reg.predict(X_train)\n",
        "    return y_train_pred, reg"
      ]
    },
    {
      "cell_type": "code",
      "source": [
        "def calculate_metrics(y_true, y_pred):\n",
        "    mse = mean_squared_error(y_true, y_pred)\n",
        "    rmse = mse ** 0.5\n",
        "    mape = mean_absolute_percentage_error(y_true, y_pred)\n",
        "    r2 = r2_score(y_true, y_pred)\n",
        "    return mse, rmse, mape, r2"
      ],
      "metadata": {
        "id": "bpZdhoWBwDA_"
      },
      "execution_count": 19,
      "outputs": []
    },
    {
      "cell_type": "code",
      "source": [
        "def linear_regression_multi_attr(X_train, y_train):\n",
        "    reg = LinearRegression().fit(X_train, y_train)\n",
        "    y_train_pred = reg.predict(X_train)\n",
        "    return y_train_pred, reg\n"
      ],
      "metadata": {
        "id": "TAYp6U0SwFvU"
      },
      "execution_count": 20,
      "outputs": []
    },
    {
      "cell_type": "code",
      "source": [
        "def kmeans_clustering(X_train, n_clusters=2):\n",
        "    kmeans = KMeans(n_clusters=n_clusters, random_state=0, n_init=\"auto\").fit(X_train)\n",
        "    return kmeans.labels_, kmeans.cluster_centers_"
      ],
      "metadata": {
        "id": "XuphPXxJwHZT"
      },
      "execution_count": 21,
      "outputs": []
    },
    {
      "cell_type": "code",
      "source": [
        "def clustering_scores(X_train, labels):\n",
        "    silhouette = silhouette_score(X_train, labels)\n",
        "    ch_score = calinski_harabasz_score(X_train, labels)\n",
        "    db_score = davies_bouldin_score(X_train, labels)\n",
        "    return silhouette, ch_score, db_score"
      ],
      "metadata": {
        "id": "a7DM-poNwKos"
      },
      "execution_count": 22,
      "outputs": []
    },
    {
      "cell_type": "code",
      "source": [
        "def kmeans_clustering_different_k(X_train, k_values):\n",
        "    scores = []\n",
        "    for k in k_values:\n",
        "        kmeans = KMeans(n_clusters=k, random_state=42).fit(X_train)\n",
        "        silhouette = silhouette_score(X_train, kmeans.labels_)\n",
        "        ch_score = calinski_harabasz_score(X_train, kmeans.labels_)\n",
        "        db_score = davies_bouldin_score(X_train, kmeans.labels_)\n",
        "        scores.append((k, silhouette, ch_score, db_score))\n",
        "    return scores"
      ],
      "metadata": {
        "id": "NByjppbGwMDV"
      },
      "execution_count": 23,
      "outputs": []
    },
    {
      "cell_type": "code",
      "source": [
        "def elbow_plot(X_train, k_values):\n",
        "    distortions = []\n",
        "    for k in k_values:\n",
        "        kmeans = KMeans(n_clusters=k).fit(X_train)\n",
        "        distortions.append(kmeans.inertia_)\n",
        "    plt.plot(k_values, distortions)\n",
        "    plt.xlabel('k')\n",
        "    plt.ylabel('Distortion')\n",
        "    plt.title('Elbow Method for Optimal k')\n",
        "    plt.show()"
      ],
      "metadata": {
        "id": "Yn6kVhqawPc8"
      },
      "execution_count": 24,
      "outputs": []
    },
    {
      "cell_type": "code",
      "source": [
        "data = pd.read_excel(r\"CE_vector_v3.xlsx\")\n",
        "X_train = data[[\"Control_Flow_Structures_Vector_0\", \"Control_Flow_Structures_Vector_1\"]]\n",
        "y_train = data[\"Final_Marks\"]\n",
        "# A1\n",
        "y_train_pred_one, reg_one = linear_regression_one_attr(X_train[[\"Control_Flow_Structures_Vector_0\"]], y_train)\n",
        "print(\"A1 - Linear Regression (one attribute) Predictions:\", y_train_pred_one)\n",
        "\n",
        "# A2\n",
        "mse, rmse, mape, r2 = calculate_metrics(y_train, y_train_pred_one)\n",
        "print(f\"A2 - Metrics: MSE={mse}, RMSE={rmse}, MAPE={mape}, R2={r2}\")\n",
        "\n",
        "# A3\n",
        "y_train_pred_multi, reg_multi = linear_regression_multi_attr(X_train, y_train)\n",
        "print(\"A3 - Linear Regression (multiple attributes) Predictions:\", y_train_pred_multi)\n",
        "\n",
        "# A4\n",
        "labels, centers = kmeans_clustering(X_train)\n",
        "print(\"A4 - K-means Clustering Labels:\", labels)\n",
        "print(\"A4 - K-means Clustering Centers:\", centers)\n",
        "\n",
        "# A5\n",
        "silhouette, ch_score, db_score = clustering_scores(X_train, labels)\n",
        "print(f\"A5 - Clustering Scores: Silhouette={silhouette}, CH Score={ch_score}, DB Score={db_score}\")\n",
        "\n",
        "# A6\n",
        "k_values = range(2, 10)\n",
        "clustering_results = kmeans_clustering_different_k(X_train, k_values)\n",
        "print(\"A6 - K-means Clustering Results for different k values:\", clustering_results)\n",
        "\n",
        "# A7\n",
        "elbow_plot(X_train, k_values)"
      ],
      "metadata": {
        "id": "JkFBTIeEwRHc",
        "outputId": "e5a399f6-c2d8-4667-9142-26386f3602ca",
        "colab": {
          "base_uri": "https://localhost:8080/",
          "height": 1000
        }
      },
      "execution_count": 26,
      "outputs": [
        {
          "output_type": "stream",
          "name": "stdout",
          "text": [
            "A1 - Linear Regression (one attribute) Predictions: [5.76129354 5.76129354 5.76129354 ... 5.4159775  5.4159775  6.01573937]\n",
            "A2 - Metrics: MSE=5.827585294124424, RMSE=2.4140392072467307, MAPE=40879262076688.13, R2=0.008104403301690488\n",
            "A3 - Linear Regression (multiple attributes) Predictions: [5.68185212 5.68185212 5.68185212 ... 4.43776835 4.43776835 5.90845458]\n",
            "A4 - K-means Clustering Labels: [0 0 0 ... 1 1 0]\n",
            "A4 - K-means Clustering Centers: [[-0.10278719  0.27419104]\n",
            " [-0.00343718  0.01998026]]\n",
            "A5 - Clustering Scores: Silhouette=0.6174860383902301, CH Score=1573.3394034043624, DB Score=0.44101353145877376\n"
          ]
        },
        {
          "output_type": "stream",
          "name": "stderr",
          "text": [
            "/usr/local/lib/python3.10/dist-packages/sklearn/cluster/_kmeans.py:1416: FutureWarning: The default value of `n_init` will change from 10 to 'auto' in 1.4. Set the value of `n_init` explicitly to suppress the warning\n",
            "  super()._check_params_vs_input(X, default_n_init=10)\n",
            "/usr/local/lib/python3.10/dist-packages/sklearn/cluster/_kmeans.py:1416: FutureWarning: The default value of `n_init` will change from 10 to 'auto' in 1.4. Set the value of `n_init` explicitly to suppress the warning\n",
            "  super()._check_params_vs_input(X, default_n_init=10)\n",
            "/usr/local/lib/python3.10/dist-packages/sklearn/cluster/_kmeans.py:1416: FutureWarning: The default value of `n_init` will change from 10 to 'auto' in 1.4. Set the value of `n_init` explicitly to suppress the warning\n",
            "  super()._check_params_vs_input(X, default_n_init=10)\n",
            "/usr/local/lib/python3.10/dist-packages/sklearn/cluster/_kmeans.py:1416: FutureWarning: The default value of `n_init` will change from 10 to 'auto' in 1.4. Set the value of `n_init` explicitly to suppress the warning\n",
            "  super()._check_params_vs_input(X, default_n_init=10)\n",
            "/usr/local/lib/python3.10/dist-packages/sklearn/cluster/_kmeans.py:1416: FutureWarning: The default value of `n_init` will change from 10 to 'auto' in 1.4. Set the value of `n_init` explicitly to suppress the warning\n",
            "  super()._check_params_vs_input(X, default_n_init=10)\n",
            "/usr/local/lib/python3.10/dist-packages/sklearn/cluster/_kmeans.py:1416: FutureWarning: The default value of `n_init` will change from 10 to 'auto' in 1.4. Set the value of `n_init` explicitly to suppress the warning\n",
            "  super()._check_params_vs_input(X, default_n_init=10)\n",
            "/usr/local/lib/python3.10/dist-packages/sklearn/cluster/_kmeans.py:1416: FutureWarning: The default value of `n_init` will change from 10 to 'auto' in 1.4. Set the value of `n_init` explicitly to suppress the warning\n",
            "  super()._check_params_vs_input(X, default_n_init=10)\n",
            "/usr/local/lib/python3.10/dist-packages/sklearn/cluster/_kmeans.py:1416: FutureWarning: The default value of `n_init` will change from 10 to 'auto' in 1.4. Set the value of `n_init` explicitly to suppress the warning\n",
            "  super()._check_params_vs_input(X, default_n_init=10)\n",
            "/usr/local/lib/python3.10/dist-packages/sklearn/cluster/_kmeans.py:1416: FutureWarning: The default value of `n_init` will change from 10 to 'auto' in 1.4. Set the value of `n_init` explicitly to suppress the warning\n",
            "  super()._check_params_vs_input(X, default_n_init=10)\n",
            "/usr/local/lib/python3.10/dist-packages/sklearn/cluster/_kmeans.py:1416: FutureWarning: The default value of `n_init` will change from 10 to 'auto' in 1.4. Set the value of `n_init` explicitly to suppress the warning\n",
            "  super()._check_params_vs_input(X, default_n_init=10)\n",
            "/usr/local/lib/python3.10/dist-packages/sklearn/cluster/_kmeans.py:1416: FutureWarning: The default value of `n_init` will change from 10 to 'auto' in 1.4. Set the value of `n_init` explicitly to suppress the warning\n",
            "  super()._check_params_vs_input(X, default_n_init=10)\n",
            "/usr/local/lib/python3.10/dist-packages/sklearn/cluster/_kmeans.py:1416: FutureWarning: The default value of `n_init` will change from 10 to 'auto' in 1.4. Set the value of `n_init` explicitly to suppress the warning\n",
            "  super()._check_params_vs_input(X, default_n_init=10)\n",
            "/usr/local/lib/python3.10/dist-packages/sklearn/cluster/_kmeans.py:1416: FutureWarning: The default value of `n_init` will change from 10 to 'auto' in 1.4. Set the value of `n_init` explicitly to suppress the warning\n",
            "  super()._check_params_vs_input(X, default_n_init=10)\n",
            "/usr/local/lib/python3.10/dist-packages/sklearn/cluster/_kmeans.py:1416: FutureWarning: The default value of `n_init` will change from 10 to 'auto' in 1.4. Set the value of `n_init` explicitly to suppress the warning\n",
            "  super()._check_params_vs_input(X, default_n_init=10)\n"
          ]
        },
        {
          "output_type": "stream",
          "name": "stdout",
          "text": [
            "A6 - K-means Clustering Results for different k values: [(2, 0.6174860383902301, 1573.3394034043624, 0.44101353145877376), (3, 0.5543988541757593, 2317.4481812278655, 0.5868411087290749), (4, 0.6119709580104943, 3235.43690345187, 0.5651959387192778), (5, 0.5563976379933506, 3159.8458796889036, 0.6898432907167663), (6, 0.5784105105159872, 3284.9054807028274, 0.6934363432632421), (7, 0.6246735098332621, 3534.8542514924293, 0.5932833353464669), (8, 0.6524470504665113, 4342.758175295154, 0.571366463142304), (9, 0.6792491699285002, 4550.4812033740045, 0.5680908691168942)]\n"
          ]
        },
        {
          "output_type": "stream",
          "name": "stderr",
          "text": [
            "/usr/local/lib/python3.10/dist-packages/sklearn/cluster/_kmeans.py:1416: FutureWarning: The default value of `n_init` will change from 10 to 'auto' in 1.4. Set the value of `n_init` explicitly to suppress the warning\n",
            "  super()._check_params_vs_input(X, default_n_init=10)\n",
            "/usr/local/lib/python3.10/dist-packages/sklearn/cluster/_kmeans.py:1416: FutureWarning: The default value of `n_init` will change from 10 to 'auto' in 1.4. Set the value of `n_init` explicitly to suppress the warning\n",
            "  super()._check_params_vs_input(X, default_n_init=10)\n"
          ]
        },
        {
          "output_type": "display_data",
          "data": {
            "text/plain": [
              "<Figure size 640x480 with 1 Axes>"
            ],
            "image/png": "[encoded data removed]"
          },
          "metadata": {}
        }
      ]
    }
  ]
}